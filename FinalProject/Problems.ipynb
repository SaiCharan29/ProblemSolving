{
  "nbformat": 4,
  "nbformat_minor": 0,
  "metadata": {
    "colab": {
      "name": "Problems.ipynb",
      "provenance": [],
      "collapsed_sections": []
    },
    "kernelspec": {
      "name": "python3",
      "display_name": "Python 3"
    }
  },
  "cells": [
    {
      "cell_type": "markdown",
      "metadata": {
        "id": "_B1xDsht7h0l",
        "colab_type": "text"
      },
      "source": [
        "## CSE-221710313019-K Sai Charan"
      ]
    },
    {
      "cell_type": "markdown",
      "metadata": {
        "id": "yln1z3Wg3k7J",
        "colab_type": "text"
      },
      "source": [
        "## Problem-Solving"
      ]
    },
    {
      "cell_type": "markdown",
      "metadata": {
        "id": "sDU4pwkCGhnG",
        "colab_type": "text"
      },
      "source": [
        "[Counting Sheep](https://codingcompetitions.withgoogle.com/codejam/round/0000000000201bee/0000000000201c8a)"
      ]
    },
    {
      "cell_type": "code",
      "metadata": {
        "id": "HVkxooSj2o4_",
        "colab_type": "code",
        "colab": {
          "base_uri": "https://localhost:8080/",
          "height": 202
        },
        "outputId": "204b527a-4e6f-40b6-ee5f-0a1184398251"
      },
      "source": [
        "#Problem 1 - CountingSheep\n",
        "for i in range(int(input())):\n",
        "    n=int(input())\n",
        "    if(n!=0):\n",
        "        num=[i for i in range(10)]\n",
        "        j=1\n",
        "        while(len(num)!=0):\n",
        "            p=j*n\n",
        "            res=list(str(p))\n",
        "            for k in res:\n",
        "                if(int(k) in num):\n",
        "                    num.remove(int(k))\n",
        "            j+=1\n",
        "        print(\"Case #\",end=\"\")\n",
        "        print(i+1,p,sep=\" :\")\n",
        "    else:\n",
        "        print(\"Case #\",end=\"\")\n",
        "        print(i+1,\"INSOMNIA\",sep=\" :\")"
      ],
      "execution_count": null,
      "outputs": [
        {
          "output_type": "stream",
          "text": [
            "5\n",
            "0\n",
            "Case #1 :INSOMNIA\n",
            "1\n",
            "Case #2 :10\n",
            "2\n",
            "Case #3 :90\n",
            "11\n",
            "Case #4 :110\n",
            "1692\n",
            "Case #5 :5076\n"
          ],
          "name": "stdout"
        }
      ]
    },
    {
      "cell_type": "markdown",
      "metadata": {
        "id": "s1Qas4K_GlOc",
        "colab_type": "text"
      },
      "source": [
        "[Trouble Sort](https://codingcompetitions.withgoogle.com/codejam/round/00000000000000cb/00000000000079cb)"
      ]
    },
    {
      "cell_type": "code",
      "metadata": {
        "id": "1BgONoYH3Px9",
        "colab_type": "code",
        "colab": {
          "base_uri": "https://localhost:8080/",
          "height": 134
        },
        "outputId": "b2847659-8545-4b62-8f83-9e91db60a975"
      },
      "source": [
        "#Problem 2 - Trouble Sort\n",
        "def findError(li):\n",
        "    for i in range(1,len(li)-1):\n",
        "        if(not(li[i]>li[i-1] and li[i]<li[i+1])):\n",
        "            return i\n",
        "def issort(li):\n",
        "    li1=li[:]\n",
        "    li1.sort()\n",
        "    if(li1==li):\n",
        "        return True\n",
        "    else:\n",
        "        return False\n",
        "def TroubleSort(li):\n",
        "    done=False\n",
        "    while not done:\n",
        "        done = True\n",
        "        for i in range(len(li)-2):\n",
        "            if li[i]>li[i+2]:\n",
        "                done=False\n",
        "                a=li[i+2]\n",
        "                li[i+2]=li[i]\n",
        "                li[i]=a\n",
        "    return li\n",
        "for i in range(int(input())):\n",
        "    a=int(input())\n",
        "    l=list(map(int,input().split()))\n",
        "    l=TroubleSort(l)\n",
        "    if(issort(l)):\n",
        "        print(\"Case #\",end=\"\")\n",
        "        print(i+1,\"OK\",sep=\" :\")\n",
        "    else:\n",
        "        print(\"Case #\",end=\"\")\n",
        "        print(i+1,findError(l),sep=\" :\")"
      ],
      "execution_count": null,
      "outputs": [
        {
          "output_type": "stream",
          "text": [
            "2\n",
            "5\n",
            "5 6 8 4 3\n",
            "Case #1 :OK\n",
            "3\n",
            "8 9 7\n",
            "Case #2 :1\n"
          ],
          "name": "stdout"
        }
      ]
    },
    {
      "cell_type": "markdown",
      "metadata": {
        "id": "f4SaQPfaGsTc",
        "colab_type": "text"
      },
      "source": [
        "[String Rotation](https://www.programminggeek.in/2018/08/codevita-2018-round-1-question-string-rotation.html?m=1#.Xx0yzJ4zaUm\n",
        ")"
      ]
    },
    {
      "cell_type": "code",
      "metadata": {
        "id": "rFxz5RTz3nAd",
        "colab_type": "code",
        "colab": {
          "base_uri": "https://localhost:8080/",
          "height": 118
        },
        "outputId": "a041685c-da15-499a-aed6-d3efea7b6a29"
      },
      "source": [
        "#Problem 3 - String Rotation\n",
        "s=input()\n",
        "a=int(input())\n",
        "sttt=s\n",
        "stri=\"\"\n",
        "def lr(s):\n",
        "    st=s[1:len(s)]+s[0]\n",
        "    return st\n",
        "def rr(s):\n",
        "    st=s[len(s)-1]+s[0:len(s)-1]\n",
        "    return st\n",
        "for qwerty in range(a):\n",
        "    a=list(input().split())\n",
        "    for i in range(int(a[1])):\n",
        "        if(a[0]=='L'):\n",
        "            s=lr(s)\n",
        "        elif(a[0]=='R'):\n",
        "            s=rr(s)\n",
        "    stri+=s[0]\n",
        "if(s.find(stri)!=-1):\n",
        "    print(\"YES\")\n",
        "else:\n",
        "    print(\"NO\")"
      ],
      "execution_count": null,
      "outputs": [
        {
          "output_type": "stream",
          "text": [
            "carrace\n",
            "3\n",
            "L 2\n",
            "R 2\n",
            "L 3\n",
            "NO\n"
          ],
          "name": "stdout"
        }
      ]
    },
    {
      "cell_type": "markdown",
      "metadata": {
        "id": "f_6zb_UyG1l7",
        "colab_type": "text"
      },
      "source": [
        "[Word Break Problem](https://www.geeksforgeeks.org/word-break-problem-dp-32/)"
      ]
    },
    {
      "cell_type": "code",
      "metadata": {
        "id": "9PbPY6_R4Fv-",
        "colab_type": "code",
        "colab": {
          "base_uri": "https://localhost:8080/",
          "height": 168
        },
        "outputId": "e6a7ca6d-607b-4869-bd94-2d7fa99d55f7"
      },
      "source": [
        "#Problem 4 - Word Break Problem\n",
        "for i in range(int(input())):\n",
        "    m=int(input())\n",
        "    l=list(input().split())\n",
        "    l=sorted(l,key=len)\n",
        "    l.reverse()\n",
        "    s=input()\n",
        "    for i in l:\n",
        "        if(i in s):\n",
        "            s=s.replace(i,'')\n",
        "    if(len(s)==0):\n",
        "        print(1)\n",
        "    else:\n",
        "        print(0)"
      ],
      "execution_count": null,
      "outputs": [
        {
          "output_type": "stream",
          "text": [
            "2\n",
            "12\n",
            "i like sam sung samsung mobile ice cream icecream man go mango \n",
            "ilike\n",
            "1\n",
            "12\n",
            "i like sam sung samsung mobile ice cream icecream man go mango \n",
            "idontlike\n",
            "0\n"
          ],
          "name": "stdout"
        }
      ]
    },
    {
      "cell_type": "markdown",
      "metadata": {
        "id": "P_Uvn3oaG-o8",
        "colab_type": "text"
      },
      "source": [
        "[Bike Tour](https://codingcompetitions.withgoogle.com/kickstart/round/000000000019ffc8/00000000002d82e6)"
      ]
    },
    {
      "cell_type": "code",
      "metadata": {
        "id": "nKmiBpYM4aZv",
        "colab_type": "code",
        "colab": {
          "base_uri": "https://localhost:8080/",
          "height": 235
        },
        "outputId": "a049b08e-428b-4a81-ad66-7f5344c79fa4"
      },
      "source": [
        "#Problem 5 - Bike Tour\n",
        "for j in range(int(input())):\n",
        "    c=0\n",
        "    n=int(input())\n",
        "    l=list(map(int,input().split()))\n",
        "    for i in range(1,len(l)-1):\n",
        "        if(l[i+1]<l[i] and l[i-1]<l[i]):\n",
        "            c+=1\n",
        "    print(\"Case #\",end=\"\")\n",
        "    print(j+1,c,sep=\" :\")"
      ],
      "execution_count": null,
      "outputs": [
        {
          "output_type": "stream",
          "text": [
            "4\n",
            "3\n",
            "10 20 14\n",
            "Case #1 :1\n",
            "4\n",
            "7 7 7 7\n",
            "Case #2 :0\n",
            "5\n",
            "10 90 20 90 10\n",
            "Case #3 :2\n",
            "3\n",
            "10 3 10\n",
            "Case #4 :0\n"
          ],
          "name": "stdout"
        }
      ]
    },
    {
      "cell_type": "markdown",
      "metadata": {
        "id": "q5sXfKq_HGlv",
        "colab_type": "text"
      },
      "source": [
        "[TestVita](https://www.programminggeek.in/2015/08/tcs-codevita-2015-round-2-testvita.html#.Xx0yvp4zaUk)"
      ]
    },
    {
      "cell_type": "code",
      "metadata": {
        "id": "_rTqWM9R40Yu",
        "colab_type": "code",
        "colab": {
          "base_uri": "https://localhost:8080/",
          "height": 151
        },
        "outputId": "314bf242-597b-4b25-e519-c5b6eb1a2acc"
      },
      "source": [
        "#Problem 6 - TestVita\n",
        "for qwerty in range(int(input())):\n",
        "    m=[]\n",
        "    nt=[]\n",
        "    dep=[]\n",
        "    n=int(input())\n",
        "    for i in range(n):\n",
        "        l=input().split()\n",
        "        m.append(l[0])\n",
        "        nt.append(l[1])\n",
        "        dep.append(l[2])\n",
        "    for i in range(n):\n",
        "        for j in range(n):\n",
        "            if(i!=j):\n",
        "                if(int(dep[i])==int(dep[j])):\n",
        "                    if(int(nt[i])>int(nt[j])):\n",
        "                        nt[j]=0\n",
        "                    else:\n",
        "                        nt[i]=0\n",
        "    s=0\n",
        "    for i in range(n):\n",
        "        s+=int(nt[i])\n",
        "    print(s)"
      ],
      "execution_count": null,
      "outputs": [
        {
          "output_type": "stream",
          "text": [
            "1\n",
            "5\n",
            "1 5 0\n",
            "2 6 1\n",
            "3 3 2\n",
            "4 2 3\n",
            "5 1 3\n",
            "16\n"
          ],
          "name": "stdout"
        }
      ]
    },
    {
      "cell_type": "markdown",
      "metadata": {
        "id": "tx1dIKxzHNPk",
        "colab_type": "text"
      },
      "source": [
        "[Big City Skyline](https://static.googleusercontent.com/media/services.google.com/en//blog_resources/Google_CodeJam_Practice.pdf)"
      ]
    },
    {
      "cell_type": "code",
      "metadata": {
        "id": "s5APdnIp5KYT",
        "colab_type": "code",
        "colab": {
          "base_uri": "https://localhost:8080/",
          "height": 67
        },
        "outputId": "cb134d16-c7e0-46db-a193-45a4c71b38a5"
      },
      "source": [
        "#Problem 7 - Big City Skyline\n",
        "a=int(input())\n",
        "li=list(map(int,input().split()))\n",
        "s=0\n",
        "m=li[1]\n",
        "for i in range(len(li)):\n",
        "    if(i%2==0):\n",
        "        s+=li[i]\n",
        "    else:\n",
        "        if(m>li[i]):\n",
        "            m=li[i]\n",
        "print(s*m)"
      ],
      "execution_count": null,
      "outputs": [
        {
          "output_type": "stream",
          "text": [
            "5\n",
            "5 7 1 20 3 5 6 3 2 10\n",
            "51\n"
          ],
          "name": "stdout"
        }
      ]
    },
    {
      "cell_type": "markdown",
      "metadata": {
        "id": "bfZ0i7SOHUB7",
        "colab_type": "text"
      },
      "source": [
        "[Mural](https://codingcompetitions.withgoogle.com/kickstart/round/0000000000050ee2/000000000005118a)"
      ]
    },
    {
      "cell_type": "code",
      "metadata": {
        "id": "C1TgNvi16T7V",
        "colab_type": "code",
        "colab": {
          "base_uri": "https://localhost:8080/",
          "height": 235
        },
        "outputId": "c2924e49-481c-4e79-a256-d0422931c6cb"
      },
      "source": [
        "#Problem 8 - Mural\n",
        "for qwerty in range(int(input())):\n",
        "    n=int(input())\n",
        "    if(n%2==0):\n",
        "        m=n//2\n",
        "    else:\n",
        "        m=n//2+1\n",
        "    li=int(input())\n",
        "    li=list(str(li))\n",
        "    li1=[]\n",
        "    for i in range(len(li)):\n",
        "        li[i]=int(li[i])\n",
        "    ma=li[0]\n",
        "    i=0\n",
        "    while(i<n-m):\n",
        "        s=sum(li[i:i+m])\n",
        "        if(ma<s):\n",
        "            ma=s\n",
        "        i+=1\n",
        "    print(\"Case #\",end=\"\")\n",
        "    print(qwerty+1,ma,sep=\" :\")"
      ],
      "execution_count": null,
      "outputs": [
        {
          "output_type": "stream",
          "text": [
            "4\n",
            "4\n",
            "1332\n",
            "Case #1 :6\n",
            "4\n",
            "9583\n",
            "Case #2 :14\n",
            "3\n",
            "616\n",
            "Case #3 :7\n",
            "10\n",
            "1029384756\n",
            "Case #4 :31\n"
          ],
          "name": "stdout"
        }
      ]
    }
  ]
}